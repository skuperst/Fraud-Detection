{
 "cells": [
  {
   "cell_type": "markdown",
   "metadata": {},
   "source": [
    "## Libraries"
   ]
  },
  {
   "cell_type": "code",
   "execution_count": 28,
   "metadata": {},
   "outputs": [],
   "source": [
    "import requests, json\n",
    "import os\n",
    "import numpy as np\n",
    "import pandas as pd\n",
    "\n",
    "import pickle\n",
    "\n",
    "from sklearn.model_selection import train_test_split\n",
    "from sklearn.metrics import accuracy_score, confusion_matrix, classification_report, f1_score, precision_score, recall_score\n",
    "\n",
    "import xgboost"
   ]
  },
  {
   "cell_type": "markdown",
   "metadata": {},
   "source": [
    "### Find what columns are used in the current API request"
   ]
  },
  {
   "cell_type": "code",
   "execution_count": 29,
   "metadata": {},
   "outputs": [],
   "source": [
    "url = 'https://real-time-payments-api.herokuapp.com/current-transactions'\n",
    "headers = {'accept': 'application/json'}\n",
    "\n",
    "# Send the GET request\n",
    "response = requests.get(url, headers=headers)\n",
    "\n",
    "# Check the response status and print the result\n",
    "if response.status_code == 200:\n",
    "    # what columns are there in an API request\n",
    "    columns_in_api = json.loads(response.json())['columns']"
   ]
  },
  {
   "cell_type": "code",
   "execution_count": 30,
   "metadata": {},
   "outputs": [
    {
     "name": "stdout",
     "output_type": "stream",
     "text": [
      "['cc_num', 'merchant', 'category', 'amt', 'first', 'last', 'gender', 'street', 'city', 'state', 'zip', 'lat', 'long', 'city_pop', 'job', 'dob', 'trans_num', 'merch_lat', 'merch_long', 'is_fraud', 'current_time']\n"
     ]
    }
   ],
   "source": [
    "print(columns_in_api)"
   ]
  },
  {
   "cell_type": "markdown",
   "metadata": {},
   "source": [
    "## Downloading"
   ]
  },
  {
   "cell_type": "code",
   "execution_count": 31,
   "metadata": {},
   "outputs": [
    {
     "name": "stdout",
     "output_type": "stream",
     "text": [
      "(555719, 22)\n"
     ]
    }
   ],
   "source": [
    "Data = pd.read_csv('../fraudTest.csv', index_col=0) # nrows=10000, \n",
    "print(Data.shape)"
   ]
  },
  {
   "cell_type": "markdown",
   "metadata": {},
   "source": [
    "## Exploratory Data Analysis"
   ]
  },
  {
   "cell_type": "code",
   "execution_count": 32,
   "metadata": {},
   "outputs": [
    {
     "name": "stdout",
     "output_type": "stream",
     "text": [
      "['amt', 'category', 'cc_num', 'city', 'city_pop', 'dob', 'first', 'gender', 'is_fraud', 'job', 'last', 'lat', 'long', 'merch_lat', 'merch_long', 'merchant', 'state', 'street', 'trans_date_trans_time', 'trans_num', 'unix_time', 'zip']\n"
     ]
    }
   ],
   "source": [
    "print(sorted(Data.columns))"
   ]
  },
  {
   "cell_type": "code",
   "execution_count": 33,
   "metadata": {},
   "outputs": [
    {
     "name": "stdout",
     "output_type": "stream",
     "text": [
      "['trans_date_trans_time', 'unix_time']\n",
      "['current_time']\n",
      "20\n",
      "True\n"
     ]
    }
   ],
   "source": [
    "# Missing in the API\n",
    "print(list(set(Data.columns) - set(columns_in_api)))\n",
    "# Missing in the database\n",
    "print(list(set(columns_in_api) - set(Data.columns)))\n",
    "# Total in both\n",
    "print(len(list(set(columns_in_api) & set(Data.columns))))\n",
    "# is_fraud is in both\n",
    "print('is_fraud' in (set(columns_in_api) & set(Data.columns)))"
   ]
  },
  {
   "cell_type": "code",
   "execution_count": 34,
   "metadata": {},
   "outputs": [
    {
     "name": "stdout",
     "output_type": "stream",
     "text": [
      "(555719, 20)\n"
     ]
    }
   ],
   "source": [
    "Data = Data[list(set(columns_in_api) & set(Data.columns))]\n",
    "print(Data.shape)"
   ]
  },
  {
   "cell_type": "code",
   "execution_count": 35,
   "metadata": {},
   "outputs": [],
   "source": [
    "# The list of columns appearing both in the API request and in the large training dataset\n",
    "with open('expected_columns.json', 'w') as file:\n",
    "    json.dump(list(Data.columns), file)"
   ]
  },
  {
   "cell_type": "code",
   "execution_count": 36,
   "metadata": {},
   "outputs": [
    {
     "data": {
      "text/html": [
       "<div>\n",
       "<style scoped>\n",
       "    .dataframe tbody tr th:only-of-type {\n",
       "        vertical-align: middle;\n",
       "    }\n",
       "\n",
       "    .dataframe tbody tr th {\n",
       "        vertical-align: top;\n",
       "    }\n",
       "\n",
       "    .dataframe thead th {\n",
       "        text-align: right;\n",
       "    }\n",
       "</style>\n",
       "<table border=\"1\" class=\"dataframe\">\n",
       "  <thead>\n",
       "    <tr style=\"text-align: right;\">\n",
       "      <th></th>\n",
       "      <th>Type</th>\n",
       "      <th>Count</th>\n",
       "    </tr>\n",
       "  </thead>\n",
       "  <tbody>\n",
       "    <tr>\n",
       "      <th>zip</th>\n",
       "      <td>int64</td>\n",
       "      <td>912</td>\n",
       "    </tr>\n",
       "    <tr>\n",
       "      <th>is_fraud</th>\n",
       "      <td>int64</td>\n",
       "      <td>2</td>\n",
       "    </tr>\n",
       "    <tr>\n",
       "      <th>city_pop</th>\n",
       "      <td>int64</td>\n",
       "      <td>835</td>\n",
       "    </tr>\n",
       "    <tr>\n",
       "      <th>cc_num</th>\n",
       "      <td>int64</td>\n",
       "      <td>924</td>\n",
       "    </tr>\n",
       "    <tr>\n",
       "      <th>long</th>\n",
       "      <td>float64</td>\n",
       "      <td>910</td>\n",
       "    </tr>\n",
       "    <tr>\n",
       "      <th>lat</th>\n",
       "      <td>float64</td>\n",
       "      <td>910</td>\n",
       "    </tr>\n",
       "    <tr>\n",
       "      <th>merch_lat</th>\n",
       "      <td>float64</td>\n",
       "      <td>546490</td>\n",
       "    </tr>\n",
       "    <tr>\n",
       "      <th>merch_long</th>\n",
       "      <td>float64</td>\n",
       "      <td>551770</td>\n",
       "    </tr>\n",
       "    <tr>\n",
       "      <th>amt</th>\n",
       "      <td>float64</td>\n",
       "      <td>37256</td>\n",
       "    </tr>\n",
       "    <tr>\n",
       "      <th>job</th>\n",
       "      <td>object</td>\n",
       "      <td>478</td>\n",
       "    </tr>\n",
       "    <tr>\n",
       "      <th>gender</th>\n",
       "      <td>object</td>\n",
       "      <td>2</td>\n",
       "    </tr>\n",
       "    <tr>\n",
       "      <th>merchant</th>\n",
       "      <td>object</td>\n",
       "      <td>693</td>\n",
       "    </tr>\n",
       "    <tr>\n",
       "      <th>dob</th>\n",
       "      <td>object</td>\n",
       "      <td>910</td>\n",
       "    </tr>\n",
       "    <tr>\n",
       "      <th>street</th>\n",
       "      <td>object</td>\n",
       "      <td>924</td>\n",
       "    </tr>\n",
       "    <tr>\n",
       "      <th>first</th>\n",
       "      <td>object</td>\n",
       "      <td>341</td>\n",
       "    </tr>\n",
       "    <tr>\n",
       "      <th>category</th>\n",
       "      <td>object</td>\n",
       "      <td>14</td>\n",
       "    </tr>\n",
       "    <tr>\n",
       "      <th>last</th>\n",
       "      <td>object</td>\n",
       "      <td>471</td>\n",
       "    </tr>\n",
       "    <tr>\n",
       "      <th>trans_num</th>\n",
       "      <td>object</td>\n",
       "      <td>555719</td>\n",
       "    </tr>\n",
       "    <tr>\n",
       "      <th>city</th>\n",
       "      <td>object</td>\n",
       "      <td>849</td>\n",
       "    </tr>\n",
       "    <tr>\n",
       "      <th>state</th>\n",
       "      <td>object</td>\n",
       "      <td>50</td>\n",
       "    </tr>\n",
       "  </tbody>\n",
       "</table>\n",
       "</div>"
      ],
      "text/plain": [
       "               Type   Count\n",
       "zip           int64     912\n",
       "is_fraud      int64       2\n",
       "city_pop      int64     835\n",
       "cc_num        int64     924\n",
       "long        float64     910\n",
       "lat         float64     910\n",
       "merch_lat   float64  546490\n",
       "merch_long  float64  551770\n",
       "amt         float64   37256\n",
       "job          object     478\n",
       "gender       object       2\n",
       "merchant     object     693\n",
       "dob          object     910\n",
       "street       object     924\n",
       "first        object     341\n",
       "category     object      14\n",
       "last         object     471\n",
       "trans_num    object  555719\n",
       "city         object     849\n",
       "state        object      50"
      ]
     },
     "metadata": {},
     "output_type": "display_data"
    }
   ],
   "source": [
    "display(pd.concat([Data.dtypes.to_frame('Type'),Data.nunique().to_frame('Count')], axis=1).sort_values('Type'))"
   ]
  },
  {
   "cell_type": "code",
   "execution_count": 37,
   "metadata": {},
   "outputs": [
    {
     "data": {
      "text/html": [
       "<div>\n",
       "<style scoped>\n",
       "    .dataframe tbody tr th:only-of-type {\n",
       "        vertical-align: middle;\n",
       "    }\n",
       "\n",
       "    .dataframe tbody tr th {\n",
       "        vertical-align: top;\n",
       "    }\n",
       "\n",
       "    .dataframe thead th {\n",
       "        text-align: right;\n",
       "    }\n",
       "</style>\n",
       "<table border=\"1\" class=\"dataframe\">\n",
       "  <thead>\n",
       "    <tr style=\"text-align: right;\">\n",
       "      <th></th>\n",
       "      <th>is_fraud</th>\n",
       "      <th>city_pop</th>\n",
       "      <th>amt</th>\n",
       "      <th>cc_num</th>\n",
       "      <th>merch_lat</th>\n",
       "      <th>zip</th>\n",
       "      <th>lat</th>\n",
       "      <th>long</th>\n",
       "      <th>merch_long</th>\n",
       "    </tr>\n",
       "  </thead>\n",
       "  <tbody>\n",
       "    <tr>\n",
       "      <th>count</th>\n",
       "      <td>555719.000000</td>\n",
       "      <td>5.557190e+05</td>\n",
       "      <td>555719.000000</td>\n",
       "      <td>5.557190e+05</td>\n",
       "      <td>555719.000000</td>\n",
       "      <td>555719.000000</td>\n",
       "      <td>555719.000000</td>\n",
       "      <td>555719.000000</td>\n",
       "      <td>555719.000000</td>\n",
       "    </tr>\n",
       "    <tr>\n",
       "      <th>mean</th>\n",
       "      <td>0.003860</td>\n",
       "      <td>8.822189e+04</td>\n",
       "      <td>69.392810</td>\n",
       "      <td>4.178387e+17</td>\n",
       "      <td>38.542798</td>\n",
       "      <td>48842.628015</td>\n",
       "      <td>38.543253</td>\n",
       "      <td>-90.231325</td>\n",
       "      <td>-90.231380</td>\n",
       "    </tr>\n",
       "    <tr>\n",
       "      <th>std</th>\n",
       "      <td>0.062008</td>\n",
       "      <td>3.003909e+05</td>\n",
       "      <td>156.745941</td>\n",
       "      <td>1.309837e+18</td>\n",
       "      <td>5.095829</td>\n",
       "      <td>26855.283328</td>\n",
       "      <td>5.061336</td>\n",
       "      <td>13.721780</td>\n",
       "      <td>13.733071</td>\n",
       "    </tr>\n",
       "    <tr>\n",
       "      <th>min</th>\n",
       "      <td>0.000000</td>\n",
       "      <td>2.300000e+01</td>\n",
       "      <td>1.000000</td>\n",
       "      <td>6.041621e+10</td>\n",
       "      <td>19.027422</td>\n",
       "      <td>1257.000000</td>\n",
       "      <td>20.027100</td>\n",
       "      <td>-165.672300</td>\n",
       "      <td>-166.671575</td>\n",
       "    </tr>\n",
       "    <tr>\n",
       "      <th>25%</th>\n",
       "      <td>0.000000</td>\n",
       "      <td>7.410000e+02</td>\n",
       "      <td>9.630000</td>\n",
       "      <td>1.800429e+14</td>\n",
       "      <td>34.755302</td>\n",
       "      <td>26292.000000</td>\n",
       "      <td>34.668900</td>\n",
       "      <td>-96.798000</td>\n",
       "      <td>-96.905129</td>\n",
       "    </tr>\n",
       "    <tr>\n",
       "      <th>50%</th>\n",
       "      <td>0.000000</td>\n",
       "      <td>2.408000e+03</td>\n",
       "      <td>47.290000</td>\n",
       "      <td>3.521417e+15</td>\n",
       "      <td>39.376593</td>\n",
       "      <td>48174.000000</td>\n",
       "      <td>39.371600</td>\n",
       "      <td>-87.476900</td>\n",
       "      <td>-87.445204</td>\n",
       "    </tr>\n",
       "    <tr>\n",
       "      <th>75%</th>\n",
       "      <td>0.000000</td>\n",
       "      <td>1.968500e+04</td>\n",
       "      <td>83.010000</td>\n",
       "      <td>4.635331e+15</td>\n",
       "      <td>41.954163</td>\n",
       "      <td>72011.000000</td>\n",
       "      <td>41.894800</td>\n",
       "      <td>-80.175200</td>\n",
       "      <td>-80.264637</td>\n",
       "    </tr>\n",
       "    <tr>\n",
       "      <th>max</th>\n",
       "      <td>1.000000</td>\n",
       "      <td>2.906700e+06</td>\n",
       "      <td>22768.110000</td>\n",
       "      <td>4.992346e+18</td>\n",
       "      <td>66.679297</td>\n",
       "      <td>99921.000000</td>\n",
       "      <td>65.689900</td>\n",
       "      <td>-67.950300</td>\n",
       "      <td>-66.952026</td>\n",
       "    </tr>\n",
       "  </tbody>\n",
       "</table>\n",
       "</div>"
      ],
      "text/plain": [
       "            is_fraud      city_pop            amt        cc_num  \\\n",
       "count  555719.000000  5.557190e+05  555719.000000  5.557190e+05   \n",
       "mean        0.003860  8.822189e+04      69.392810  4.178387e+17   \n",
       "std         0.062008  3.003909e+05     156.745941  1.309837e+18   \n",
       "min         0.000000  2.300000e+01       1.000000  6.041621e+10   \n",
       "25%         0.000000  7.410000e+02       9.630000  1.800429e+14   \n",
       "50%         0.000000  2.408000e+03      47.290000  3.521417e+15   \n",
       "75%         0.000000  1.968500e+04      83.010000  4.635331e+15   \n",
       "max         1.000000  2.906700e+06   22768.110000  4.992346e+18   \n",
       "\n",
       "           merch_lat            zip            lat           long  \\\n",
       "count  555719.000000  555719.000000  555719.000000  555719.000000   \n",
       "mean       38.542798   48842.628015      38.543253     -90.231325   \n",
       "std         5.095829   26855.283328       5.061336      13.721780   \n",
       "min        19.027422    1257.000000      20.027100    -165.672300   \n",
       "25%        34.755302   26292.000000      34.668900     -96.798000   \n",
       "50%        39.376593   48174.000000      39.371600     -87.476900   \n",
       "75%        41.954163   72011.000000      41.894800     -80.175200   \n",
       "max        66.679297   99921.000000      65.689900     -67.950300   \n",
       "\n",
       "          merch_long  \n",
       "count  555719.000000  \n",
       "mean      -90.231380  \n",
       "std        13.733071  \n",
       "min      -166.671575  \n",
       "25%       -96.905129  \n",
       "50%       -87.445204  \n",
       "75%       -80.264637  \n",
       "max       -66.952026  "
      ]
     },
     "metadata": {},
     "output_type": "display_data"
    }
   ],
   "source": [
    "display(Data.describe())"
   ]
  },
  {
   "cell_type": "code",
   "execution_count": 38,
   "metadata": {},
   "outputs": [
    {
     "data": {
      "text/plain": [
       "is_fraud\n",
       "0    553574\n",
       "1      2145\n",
       "Name: count, dtype: int64"
      ]
     },
     "metadata": {},
     "output_type": "display_data"
    }
   ],
   "source": [
    "display(Data['is_fraud'].value_counts())"
   ]
  },
  {
   "cell_type": "markdown",
   "metadata": {},
   "source": [
    "## Preprocessing"
   ]
  },
  {
   "cell_type": "code",
   "execution_count": 39,
   "metadata": {},
   "outputs": [
    {
     "data": {
      "text/html": [
       "<div>\n",
       "<style scoped>\n",
       "    .dataframe tbody tr th:only-of-type {\n",
       "        vertical-align: middle;\n",
       "    }\n",
       "\n",
       "    .dataframe tbody tr th {\n",
       "        vertical-align: top;\n",
       "    }\n",
       "\n",
       "    .dataframe thead th {\n",
       "        text-align: right;\n",
       "    }\n",
       "</style>\n",
       "<table border=\"1\" class=\"dataframe\">\n",
       "  <thead>\n",
       "    <tr style=\"text-align: right;\">\n",
       "      <th></th>\n",
       "      <th>Type</th>\n",
       "      <th>Count</th>\n",
       "    </tr>\n",
       "  </thead>\n",
       "  <tbody>\n",
       "    <tr>\n",
       "      <th>zip</th>\n",
       "      <td>int64</td>\n",
       "      <td>912</td>\n",
       "    </tr>\n",
       "    <tr>\n",
       "      <th>is_fraud</th>\n",
       "      <td>int64</td>\n",
       "      <td>2</td>\n",
       "    </tr>\n",
       "    <tr>\n",
       "      <th>city_pop</th>\n",
       "      <td>int64</td>\n",
       "      <td>835</td>\n",
       "    </tr>\n",
       "    <tr>\n",
       "      <th>cc_num</th>\n",
       "      <td>int64</td>\n",
       "      <td>924</td>\n",
       "    </tr>\n",
       "    <tr>\n",
       "      <th>long</th>\n",
       "      <td>float64</td>\n",
       "      <td>910</td>\n",
       "    </tr>\n",
       "    <tr>\n",
       "      <th>lat</th>\n",
       "      <td>float64</td>\n",
       "      <td>910</td>\n",
       "    </tr>\n",
       "    <tr>\n",
       "      <th>merch_lat</th>\n",
       "      <td>float64</td>\n",
       "      <td>546490</td>\n",
       "    </tr>\n",
       "    <tr>\n",
       "      <th>merch_long</th>\n",
       "      <td>float64</td>\n",
       "      <td>551770</td>\n",
       "    </tr>\n",
       "    <tr>\n",
       "      <th>amt</th>\n",
       "      <td>float64</td>\n",
       "      <td>37256</td>\n",
       "    </tr>\n",
       "    <tr>\n",
       "      <th>job</th>\n",
       "      <td>object</td>\n",
       "      <td>478</td>\n",
       "    </tr>\n",
       "    <tr>\n",
       "      <th>gender</th>\n",
       "      <td>object</td>\n",
       "      <td>2</td>\n",
       "    </tr>\n",
       "    <tr>\n",
       "      <th>merchant</th>\n",
       "      <td>object</td>\n",
       "      <td>693</td>\n",
       "    </tr>\n",
       "    <tr>\n",
       "      <th>dob</th>\n",
       "      <td>object</td>\n",
       "      <td>910</td>\n",
       "    </tr>\n",
       "    <tr>\n",
       "      <th>street</th>\n",
       "      <td>object</td>\n",
       "      <td>924</td>\n",
       "    </tr>\n",
       "    <tr>\n",
       "      <th>first</th>\n",
       "      <td>object</td>\n",
       "      <td>341</td>\n",
       "    </tr>\n",
       "    <tr>\n",
       "      <th>category</th>\n",
       "      <td>object</td>\n",
       "      <td>14</td>\n",
       "    </tr>\n",
       "    <tr>\n",
       "      <th>last</th>\n",
       "      <td>object</td>\n",
       "      <td>471</td>\n",
       "    </tr>\n",
       "    <tr>\n",
       "      <th>trans_num</th>\n",
       "      <td>object</td>\n",
       "      <td>555719</td>\n",
       "    </tr>\n",
       "    <tr>\n",
       "      <th>city</th>\n",
       "      <td>object</td>\n",
       "      <td>849</td>\n",
       "    </tr>\n",
       "    <tr>\n",
       "      <th>state</th>\n",
       "      <td>object</td>\n",
       "      <td>50</td>\n",
       "    </tr>\n",
       "  </tbody>\n",
       "</table>\n",
       "</div>"
      ],
      "text/plain": [
       "               Type   Count\n",
       "zip           int64     912\n",
       "is_fraud      int64       2\n",
       "city_pop      int64     835\n",
       "cc_num        int64     924\n",
       "long        float64     910\n",
       "lat         float64     910\n",
       "merch_lat   float64  546490\n",
       "merch_long  float64  551770\n",
       "amt         float64   37256\n",
       "job          object     478\n",
       "gender       object       2\n",
       "merchant     object     693\n",
       "dob          object     910\n",
       "street       object     924\n",
       "first        object     341\n",
       "category     object      14\n",
       "last         object     471\n",
       "trans_num    object  555719\n",
       "city         object     849\n",
       "state        object      50"
      ]
     },
     "metadata": {},
     "output_type": "display_data"
    }
   ],
   "source": [
    "# In general some of the string fields (aka objects or categories) MAY no impact the ML modelling, but it seems to be true only trans_num\n",
    "display(pd.concat([Data.dtypes.to_frame('Type'), Data.nunique().to_frame('Count')], axis=1).sort_values('Type'))"
   ]
  },
  {
   "cell_type": "markdown",
   "metadata": {},
   "source": [
    "## Train/Test Spliting"
   ]
  },
  {
   "cell_type": "code",
   "execution_count": 40,
   "metadata": {},
   "outputs": [
    {
     "name": "stdout",
     "output_type": "stream",
     "text": [
      "(444575, 18)\n",
      "(111144, 18)\n"
     ]
    }
   ],
   "source": [
    "# We drop trans_num becuase it's unique has no impact on the model, and keep is_fraud  for the labels\n",
    "X = Data.drop(['trans_num','is_fraud'], axis = 1)\n",
    "y = Data['is_fraud']\n",
    "\n",
    "# Transform training data and save category mappings for categorical columns\n",
    "X = X.apply(lambda col: col.astype('category') if col.dtype == 'object' else col, axis = 0)\n",
    "\n",
    "# The categories dictioanry used for the XGBoost predictions (sse the last section)\n",
    "category_dict = {}\n",
    "# Loop through each object-type column in X\n",
    "for col in X.select_dtypes(include='category').columns:\n",
    "    # Get the full set of all unique categories in this column\n",
    "    category_dict[col] = X[col].cat.categories \n",
    "\n",
    "# Saving the dictionary to a file\n",
    "with open('category_dict.pkl', 'wb') as file:\n",
    "    pickle.dump(category_dict, file)\n",
    "\n",
    "# Split the dataset\n",
    "X_train, X_test, y_train, y_test = train_test_split(X, y, test_size=0.2, random_state=42)\n",
    "\n",
    "print(X_train.shape)\n",
    "print(X_test.shape)"
   ]
  },
  {
   "cell_type": "code",
   "execution_count": 41,
   "metadata": {},
   "outputs": [
    {
     "name": "stdout",
     "output_type": "stream",
     "text": [
      "Index(['F', 'M'], dtype='object')\n",
      "Index(['entertainment', 'food_dining', 'gas_transport', 'grocery_net',\n",
      "       'grocery_pos', 'health_fitness', 'home', 'kids_pets', 'misc_net',\n",
      "       'misc_pos', 'personal_care', 'shopping_net', 'shopping_pos', 'travel'],\n",
      "      dtype='object')\n"
     ]
    }
   ],
   "source": [
    "# Show a few examples and delete the dictionary from the notebook\n",
    "print(category_dict['gender'])\n",
    "print(category_dict['category'])\n",
    "del(category_dict)"
   ]
  },
  {
   "cell_type": "markdown",
   "metadata": {},
   "source": [
    "## Training"
   ]
  },
  {
   "cell_type": "code",
   "execution_count": 42,
   "metadata": {},
   "outputs": [],
   "source": [
    "# Convert the training data to DMatrix (for enable_categorical=True)\n",
    "dtrain = xgboost.DMatrix(X_train, label=y_train, enable_categorical=True)\n",
    "# Train the model using xgboost.Booster\n",
    "params = {'random_state':42, 'max_depth':8, 'min_child_weight':0.5, 'gamma':3., 'reg_alpha':1., 'reg_lambda':1.}\n",
    "xgboost_model = xgboost.train(params, dtrain, num_boost_round=100)\n"
   ]
  },
  {
   "cell_type": "markdown",
   "metadata": {},
   "source": [
    "## Saving the model"
   ]
  },
  {
   "cell_type": "code",
   "execution_count": 43,
   "metadata": {},
   "outputs": [],
   "source": [
    "xgboost_model.save_model('xgboost_model.json')\n",
    "del(xgboost_model)"
   ]
  },
  {
   "cell_type": "markdown",
   "metadata": {},
   "source": [
    "## Loading and Using"
   ]
  },
  {
   "cell_type": "code",
   "execution_count": 44,
   "metadata": {},
   "outputs": [],
   "source": [
    "xgboost_model = xgboost.XGBClassifier()\n",
    "xgboost_model.load_model('xgboost_model.json')"
   ]
  },
  {
   "cell_type": "markdown",
   "metadata": {},
   "source": [
    "## Testing"
   ]
  },
  {
   "cell_type": "code",
   "execution_count": 45,
   "metadata": {},
   "outputs": [
    {
     "name": "stdout",
     "output_type": "stream",
     "text": [
      "XG-Boost accuracy: 0.9976\n",
      "---------------------\n",
      "Confusion matrix:\n",
      "[[110685     33]\n",
      " [   231    195]]\n",
      "---------------------\n",
      "Classification report:\n",
      "              precision    recall  f1-score   support\n",
      "\n",
      "           0     0.9979    0.9997    0.9988    110718\n",
      "           1     0.8553    0.4577    0.5963       426\n",
      "\n",
      "    accuracy                         0.9976    111144\n",
      "   macro avg     0.9266    0.7287    0.7976    111144\n",
      "weighted avg     0.9974    0.9976    0.9973    111144\n",
      "\n"
     ]
    }
   ],
   "source": [
    "# Calculate the predictions\n",
    "y_pred = xgboost_model.predict(X_test)\n",
    "# Show the test dataset fit\n",
    "print(\"XG-Boost accuracy: {:.4f}\".format(accuracy_score(y_test, y_pred)))\n",
    "print('---------------------')\n",
    "print(\"Confusion matrix:\")\n",
    "print(confusion_matrix(y_test, y_pred))\n",
    "print('---------------------')\n",
    "print(\"Classification report:\")\n",
    "print(classification_report(y_test, y_pred, digits=4))"
   ]
  },
  {
   "cell_type": "code",
   "execution_count": 46,
   "metadata": {},
   "outputs": [
    {
     "name": "stdout",
     "output_type": "stream",
     "text": [
      "[[110685     33]\n",
      " [     0      0]]\n",
      "[[  0   0]\n",
      " [231 195]]\n"
     ]
    }
   ],
   "source": [
    "# A few checks: the confusion matrix split in two \n",
    "y_ = y_test[y_test==0] \n",
    "X_ = X_test[y_test==0] \n",
    "print(confusion_matrix(y_, xgboost_model.predict(X_)))\n",
    "y_ = y_test[y_test==1] \n",
    "X_ = X_test[y_test==1] \n",
    "print(confusion_matrix(y_, xgboost_model.predict(X_)))\n",
    "del(y_, X_)"
   ]
  },
  {
   "cell_type": "markdown",
   "metadata": {},
   "source": [
    "## How to get a prediction for a datapoint in the json format"
   ]
  },
  {
   "cell_type": "code",
   "execution_count": 47,
   "metadata": {},
   "outputs": [
    {
     "name": "stdout",
     "output_type": "stream",
     "text": [
      "951\n",
      "1\n",
      "[[0.4786266 0.5213734]]\n"
     ]
    }
   ],
   "source": [
    "# The first non-zero prediction will be used for the procedure\n",
    "y_pred = xgboost_model.predict(X)\n",
    "i = np.argmax([y_pred == 1])\n",
    "print(i)\n",
    "print(y_pred[i])\n",
    "print(xgboost_model.predict_proba(X[i:i+1]))"
   ]
  },
  {
   "cell_type": "code",
   "execution_count": 48,
   "metadata": {},
   "outputs": [
    {
     "name": "stdout",
     "output_type": "stream",
     "text": [
      "{'state': 'MD', 'street': '35822 Clayton Street Apt. 679', 'city_pop': 5927, 'amt': 3204.98, 'job': 'Art therapist', 'cc_num': 4292743669224718067, 'city': 'Great Mills', 'merch_lat': 37.480372, 'zip': 20634, 'merchant': 'fraud_Haley, Jewess and Bechtelar', 'lat': 38.2674, 'dob': '1973-06-09', 'long': -76.4954, 'first': 'Michael', 'category': 'shopping_pos', 'last': 'Williams', 'gender': 'M', 'merch_long': -77.34958}\n"
     ]
    }
   ],
   "source": [
    "# The JSON file for a single data point\n",
    "my_dict = X.iloc[i,:].to_dict()\n",
    "print(my_dict)"
   ]
  },
  {
   "cell_type": "code",
   "execution_count": 49,
   "metadata": {},
   "outputs": [
    {
     "data": {
      "text/html": [
       "<div>\n",
       "<style scoped>\n",
       "    .dataframe tbody tr th:only-of-type {\n",
       "        vertical-align: middle;\n",
       "    }\n",
       "\n",
       "    .dataframe tbody tr th {\n",
       "        vertical-align: top;\n",
       "    }\n",
       "\n",
       "    .dataframe thead th {\n",
       "        text-align: right;\n",
       "    }\n",
       "</style>\n",
       "<table border=\"1\" class=\"dataframe\">\n",
       "  <thead>\n",
       "    <tr style=\"text-align: right;\">\n",
       "      <th></th>\n",
       "      <th>state</th>\n",
       "      <th>street</th>\n",
       "      <th>city_pop</th>\n",
       "      <th>amt</th>\n",
       "      <th>job</th>\n",
       "      <th>cc_num</th>\n",
       "      <th>city</th>\n",
       "      <th>merch_lat</th>\n",
       "      <th>zip</th>\n",
       "      <th>merchant</th>\n",
       "      <th>lat</th>\n",
       "      <th>dob</th>\n",
       "      <th>long</th>\n",
       "      <th>first</th>\n",
       "      <th>category</th>\n",
       "      <th>last</th>\n",
       "      <th>gender</th>\n",
       "      <th>merch_long</th>\n",
       "    </tr>\n",
       "  </thead>\n",
       "  <tbody>\n",
       "    <tr>\n",
       "      <th>0</th>\n",
       "      <td>MD</td>\n",
       "      <td>35822 Clayton Street Apt. 679</td>\n",
       "      <td>5927</td>\n",
       "      <td>3204.98</td>\n",
       "      <td>Art therapist</td>\n",
       "      <td>4292743669224718067</td>\n",
       "      <td>Great Mills</td>\n",
       "      <td>37.480372</td>\n",
       "      <td>20634</td>\n",
       "      <td>fraud_Haley, Jewess and Bechtelar</td>\n",
       "      <td>38.2674</td>\n",
       "      <td>1973-06-09</td>\n",
       "      <td>-76.4954</td>\n",
       "      <td>Michael</td>\n",
       "      <td>shopping_pos</td>\n",
       "      <td>Williams</td>\n",
       "      <td>M</td>\n",
       "      <td>-77.34958</td>\n",
       "    </tr>\n",
       "  </tbody>\n",
       "</table>\n",
       "</div>"
      ],
      "text/plain": [
       "  state                         street  city_pop      amt            job  \\\n",
       "0    MD  35822 Clayton Street Apt. 679      5927  3204.98  Art therapist   \n",
       "\n",
       "                cc_num         city  merch_lat    zip  \\\n",
       "0  4292743669224718067  Great Mills  37.480372  20634   \n",
       "\n",
       "                            merchant      lat         dob     long    first  \\\n",
       "0  fraud_Haley, Jewess and Bechtelar  38.2674  1973-06-09 -76.4954  Michael   \n",
       "\n",
       "       category      last gender  merch_long  \n",
       "0  shopping_pos  Williams      M   -77.34958  "
      ]
     },
     "metadata": {},
     "output_type": "display_data"
    }
   ],
   "source": [
    "# One-row datarame with a single data point known to yield the 1-perdiction\n",
    "df = pd.DataFrame([my_dict])\n",
    "display(df)"
   ]
  },
  {
   "cell_type": "code",
   "execution_count": 50,
   "metadata": {},
   "outputs": [
    {
     "name": "stdout",
     "output_type": "stream",
     "text": [
      "True\n"
     ]
    }
   ],
   "source": [
    "# The values are the same, but ....\n",
    "print((df == X.iloc[i:i+1, :].reset_index(drop=True)).all().all())"
   ]
  },
  {
   "cell_type": "code",
   "execution_count": 51,
   "metadata": {},
   "outputs": [
    {
     "name": "stdout",
     "output_type": "stream",
     "text": [
      "False\n"
     ]
    }
   ],
   "source": [
    "# ... the column types are different\n",
    "print((df.dtypes.sort_index() == X.dtypes.sort_index()).all())"
   ]
  },
  {
   "cell_type": "code",
   "execution_count": 52,
   "metadata": {},
   "outputs": [],
   "source": [
    "# Load the categorical dictionary\n",
    "with open('category_dict.pkl', 'rb') as file:\n",
    "    category_dict = pickle.load(file)\n",
    "\n",
    "# Convert object columns to categorical columns\n",
    "for col, categories in category_dict.items():\n",
    "    if col in df.columns:\n",
    "        # Convert the column in df to categorical using the categories from category_dict\n",
    "        df[col] = pd.Categorical(df[col], categories=categories)"
   ]
  },
  {
   "cell_type": "code",
   "execution_count": 53,
   "metadata": {},
   "outputs": [
    {
     "name": "stdout",
     "output_type": "stream",
     "text": [
      "True\n"
     ]
    }
   ],
   "source": [
    "# The column types are the same now!\n",
    "print((df.dtypes.sort_index() == X.dtypes.sort_index()).all())"
   ]
  },
  {
   "cell_type": "code",
   "execution_count": 54,
   "metadata": {},
   "outputs": [
    {
     "name": "stdout",
     "output_type": "stream",
     "text": [
      "[1]\n"
     ]
    }
   ],
   "source": [
    "print(xgboost_model.predict(df)) # As expected"
   ]
  }
 ],
 "metadata": {
  "kernelspec": {
   "display_name": "base",
   "language": "python",
   "name": "python3"
  },
  "language_info": {
   "codemirror_mode": {
    "name": "ipython",
    "version": 3
   },
   "file_extension": ".py",
   "mimetype": "text/x-python",
   "name": "python",
   "nbconvert_exporter": "python",
   "pygments_lexer": "ipython3",
   "version": "3.12.2"
  }
 },
 "nbformat": 4,
 "nbformat_minor": 2
}
