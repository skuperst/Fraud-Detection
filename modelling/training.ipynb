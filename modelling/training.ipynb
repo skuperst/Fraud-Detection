{
 "cells": [
  {
   "cell_type": "markdown",
   "metadata": {},
   "source": [
    "## Libraries"
   ]
  },
  {
   "cell_type": "code",
   "execution_count": 2,
   "metadata": {},
   "outputs": [],
   "source": [
    "import os\n",
    "import numpy as np\n",
    "import pandas as pd\n",
    "\n",
    "import pickle\n",
    "\n",
    "from sklearn.model_selection import train_test_split\n",
    "from sklearn.metrics import accuracy_score, confusion_matrix, classification_report, f1_score, precision_score, recall_score\n",
    "\n",
    "import xgboost"
   ]
  },
  {
   "cell_type": "markdown",
   "metadata": {},
   "source": [
    "## Downloading"
   ]
  },
  {
   "cell_type": "code",
   "execution_count": 2,
   "metadata": {},
   "outputs": [],
   "source": [
    "Data = pd.read_csv('../fraudTest.csv', index_col=0) # nrows=10000, "
   ]
  },
  {
   "cell_type": "markdown",
   "metadata": {},
   "source": [
    "## Exploratory Data Analysis"
   ]
  },
  {
   "cell_type": "code",
   "execution_count": 3,
   "metadata": {},
   "outputs": [
    {
     "name": "stdout",
     "output_type": "stream",
     "text": [
      "Index(['trans_date_trans_time', 'cc_num', 'merchant', 'category', 'amt',\n",
      "       'first', 'last', 'gender', 'street', 'city', 'state', 'zip', 'lat',\n",
      "       'long', 'city_pop', 'job', 'dob', 'trans_num', 'unix_time', 'merch_lat',\n",
      "       'merch_long', 'is_fraud'],\n",
      "      dtype='object')\n"
     ]
    }
   ],
   "source": [
    "print(Data.columns)"
   ]
  },
  {
   "cell_type": "code",
   "execution_count": 4,
   "metadata": {},
   "outputs": [
    {
     "data": {
      "text/html": [
       "<div>\n",
       "<style scoped>\n",
       "    .dataframe tbody tr th:only-of-type {\n",
       "        vertical-align: middle;\n",
       "    }\n",
       "\n",
       "    .dataframe tbody tr th {\n",
       "        vertical-align: top;\n",
       "    }\n",
       "\n",
       "    .dataframe thead th {\n",
       "        text-align: right;\n",
       "    }\n",
       "</style>\n",
       "<table border=\"1\" class=\"dataframe\">\n",
       "  <thead>\n",
       "    <tr style=\"text-align: right;\">\n",
       "      <th></th>\n",
       "      <th>Type</th>\n",
       "      <th>Count</th>\n",
       "    </tr>\n",
       "  </thead>\n",
       "  <tbody>\n",
       "    <tr>\n",
       "      <th>is_fraud</th>\n",
       "      <td>int64</td>\n",
       "      <td>2</td>\n",
       "    </tr>\n",
       "    <tr>\n",
       "      <th>cc_num</th>\n",
       "      <td>int64</td>\n",
       "      <td>924</td>\n",
       "    </tr>\n",
       "    <tr>\n",
       "      <th>unix_time</th>\n",
       "      <td>int64</td>\n",
       "      <td>544760</td>\n",
       "    </tr>\n",
       "    <tr>\n",
       "      <th>city_pop</th>\n",
       "      <td>int64</td>\n",
       "      <td>835</td>\n",
       "    </tr>\n",
       "    <tr>\n",
       "      <th>zip</th>\n",
       "      <td>int64</td>\n",
       "      <td>912</td>\n",
       "    </tr>\n",
       "    <tr>\n",
       "      <th>merch_lat</th>\n",
       "      <td>float64</td>\n",
       "      <td>546490</td>\n",
       "    </tr>\n",
       "    <tr>\n",
       "      <th>amt</th>\n",
       "      <td>float64</td>\n",
       "      <td>37256</td>\n",
       "    </tr>\n",
       "    <tr>\n",
       "      <th>long</th>\n",
       "      <td>float64</td>\n",
       "      <td>910</td>\n",
       "    </tr>\n",
       "    <tr>\n",
       "      <th>merch_long</th>\n",
       "      <td>float64</td>\n",
       "      <td>551770</td>\n",
       "    </tr>\n",
       "    <tr>\n",
       "      <th>lat</th>\n",
       "      <td>float64</td>\n",
       "      <td>910</td>\n",
       "    </tr>\n",
       "    <tr>\n",
       "      <th>trans_num</th>\n",
       "      <td>object</td>\n",
       "      <td>555719</td>\n",
       "    </tr>\n",
       "    <tr>\n",
       "      <th>dob</th>\n",
       "      <td>object</td>\n",
       "      <td>910</td>\n",
       "    </tr>\n",
       "    <tr>\n",
       "      <th>job</th>\n",
       "      <td>object</td>\n",
       "      <td>478</td>\n",
       "    </tr>\n",
       "    <tr>\n",
       "      <th>trans_date_trans_time</th>\n",
       "      <td>object</td>\n",
       "      <td>544760</td>\n",
       "    </tr>\n",
       "    <tr>\n",
       "      <th>street</th>\n",
       "      <td>object</td>\n",
       "      <td>924</td>\n",
       "    </tr>\n",
       "    <tr>\n",
       "      <th>gender</th>\n",
       "      <td>object</td>\n",
       "      <td>2</td>\n",
       "    </tr>\n",
       "    <tr>\n",
       "      <th>last</th>\n",
       "      <td>object</td>\n",
       "      <td>471</td>\n",
       "    </tr>\n",
       "    <tr>\n",
       "      <th>first</th>\n",
       "      <td>object</td>\n",
       "      <td>341</td>\n",
       "    </tr>\n",
       "    <tr>\n",
       "      <th>category</th>\n",
       "      <td>object</td>\n",
       "      <td>14</td>\n",
       "    </tr>\n",
       "    <tr>\n",
       "      <th>merchant</th>\n",
       "      <td>object</td>\n",
       "      <td>693</td>\n",
       "    </tr>\n",
       "    <tr>\n",
       "      <th>city</th>\n",
       "      <td>object</td>\n",
       "      <td>849</td>\n",
       "    </tr>\n",
       "    <tr>\n",
       "      <th>state</th>\n",
       "      <td>object</td>\n",
       "      <td>50</td>\n",
       "    </tr>\n",
       "  </tbody>\n",
       "</table>\n",
       "</div>"
      ],
      "text/plain": [
       "                          Type   Count\n",
       "is_fraud                 int64       2\n",
       "cc_num                   int64     924\n",
       "unix_time                int64  544760\n",
       "city_pop                 int64     835\n",
       "zip                      int64     912\n",
       "merch_lat              float64  546490\n",
       "amt                    float64   37256\n",
       "long                   float64     910\n",
       "merch_long             float64  551770\n",
       "lat                    float64     910\n",
       "trans_num               object  555719\n",
       "dob                     object     910\n",
       "job                     object     478\n",
       "trans_date_trans_time   object  544760\n",
       "street                  object     924\n",
       "gender                  object       2\n",
       "last                    object     471\n",
       "first                   object     341\n",
       "category                object      14\n",
       "merchant                object     693\n",
       "city                    object     849\n",
       "state                   object      50"
      ]
     },
     "metadata": {},
     "output_type": "display_data"
    }
   ],
   "source": [
    "display(pd.concat([Data.dtypes.to_frame('Type'),Data.nunique().to_frame('Count')], axis=1).sort_values('Type'))"
   ]
  },
  {
   "cell_type": "code",
   "execution_count": 5,
   "metadata": {},
   "outputs": [
    {
     "data": {
      "text/html": [
       "<div>\n",
       "<style scoped>\n",
       "    .dataframe tbody tr th:only-of-type {\n",
       "        vertical-align: middle;\n",
       "    }\n",
       "\n",
       "    .dataframe tbody tr th {\n",
       "        vertical-align: top;\n",
       "    }\n",
       "\n",
       "    .dataframe thead th {\n",
       "        text-align: right;\n",
       "    }\n",
       "</style>\n",
       "<table border=\"1\" class=\"dataframe\">\n",
       "  <thead>\n",
       "    <tr style=\"text-align: right;\">\n",
       "      <th></th>\n",
       "      <th>cc_num</th>\n",
       "      <th>amt</th>\n",
       "      <th>zip</th>\n",
       "      <th>lat</th>\n",
       "      <th>long</th>\n",
       "      <th>city_pop</th>\n",
       "      <th>unix_time</th>\n",
       "      <th>merch_lat</th>\n",
       "      <th>merch_long</th>\n",
       "      <th>is_fraud</th>\n",
       "    </tr>\n",
       "  </thead>\n",
       "  <tbody>\n",
       "    <tr>\n",
       "      <th>count</th>\n",
       "      <td>5.557190e+05</td>\n",
       "      <td>555719.000000</td>\n",
       "      <td>555719.000000</td>\n",
       "      <td>555719.000000</td>\n",
       "      <td>555719.000000</td>\n",
       "      <td>5.557190e+05</td>\n",
       "      <td>5.557190e+05</td>\n",
       "      <td>555719.000000</td>\n",
       "      <td>555719.000000</td>\n",
       "      <td>555719.000000</td>\n",
       "    </tr>\n",
       "    <tr>\n",
       "      <th>mean</th>\n",
       "      <td>4.178387e+17</td>\n",
       "      <td>69.392810</td>\n",
       "      <td>48842.628015</td>\n",
       "      <td>38.543253</td>\n",
       "      <td>-90.231325</td>\n",
       "      <td>8.822189e+04</td>\n",
       "      <td>1.380679e+09</td>\n",
       "      <td>38.542798</td>\n",
       "      <td>-90.231380</td>\n",
       "      <td>0.003860</td>\n",
       "    </tr>\n",
       "    <tr>\n",
       "      <th>std</th>\n",
       "      <td>1.309837e+18</td>\n",
       "      <td>156.745941</td>\n",
       "      <td>26855.283328</td>\n",
       "      <td>5.061336</td>\n",
       "      <td>13.721780</td>\n",
       "      <td>3.003909e+05</td>\n",
       "      <td>5.201104e+06</td>\n",
       "      <td>5.095829</td>\n",
       "      <td>13.733071</td>\n",
       "      <td>0.062008</td>\n",
       "    </tr>\n",
       "    <tr>\n",
       "      <th>min</th>\n",
       "      <td>6.041621e+10</td>\n",
       "      <td>1.000000</td>\n",
       "      <td>1257.000000</td>\n",
       "      <td>20.027100</td>\n",
       "      <td>-165.672300</td>\n",
       "      <td>2.300000e+01</td>\n",
       "      <td>1.371817e+09</td>\n",
       "      <td>19.027422</td>\n",
       "      <td>-166.671575</td>\n",
       "      <td>0.000000</td>\n",
       "    </tr>\n",
       "    <tr>\n",
       "      <th>25%</th>\n",
       "      <td>1.800429e+14</td>\n",
       "      <td>9.630000</td>\n",
       "      <td>26292.000000</td>\n",
       "      <td>34.668900</td>\n",
       "      <td>-96.798000</td>\n",
       "      <td>7.410000e+02</td>\n",
       "      <td>1.376029e+09</td>\n",
       "      <td>34.755302</td>\n",
       "      <td>-96.905129</td>\n",
       "      <td>0.000000</td>\n",
       "    </tr>\n",
       "    <tr>\n",
       "      <th>50%</th>\n",
       "      <td>3.521417e+15</td>\n",
       "      <td>47.290000</td>\n",
       "      <td>48174.000000</td>\n",
       "      <td>39.371600</td>\n",
       "      <td>-87.476900</td>\n",
       "      <td>2.408000e+03</td>\n",
       "      <td>1.380762e+09</td>\n",
       "      <td>39.376593</td>\n",
       "      <td>-87.445204</td>\n",
       "      <td>0.000000</td>\n",
       "    </tr>\n",
       "    <tr>\n",
       "      <th>75%</th>\n",
       "      <td>4.635331e+15</td>\n",
       "      <td>83.010000</td>\n",
       "      <td>72011.000000</td>\n",
       "      <td>41.894800</td>\n",
       "      <td>-80.175200</td>\n",
       "      <td>1.968500e+04</td>\n",
       "      <td>1.385867e+09</td>\n",
       "      <td>41.954163</td>\n",
       "      <td>-80.264637</td>\n",
       "      <td>0.000000</td>\n",
       "    </tr>\n",
       "    <tr>\n",
       "      <th>max</th>\n",
       "      <td>4.992346e+18</td>\n",
       "      <td>22768.110000</td>\n",
       "      <td>99921.000000</td>\n",
       "      <td>65.689900</td>\n",
       "      <td>-67.950300</td>\n",
       "      <td>2.906700e+06</td>\n",
       "      <td>1.388534e+09</td>\n",
       "      <td>66.679297</td>\n",
       "      <td>-66.952026</td>\n",
       "      <td>1.000000</td>\n",
       "    </tr>\n",
       "  </tbody>\n",
       "</table>\n",
       "</div>"
      ],
      "text/plain": [
       "             cc_num            amt            zip            lat  \\\n",
       "count  5.557190e+05  555719.000000  555719.000000  555719.000000   \n",
       "mean   4.178387e+17      69.392810   48842.628015      38.543253   \n",
       "std    1.309837e+18     156.745941   26855.283328       5.061336   \n",
       "min    6.041621e+10       1.000000    1257.000000      20.027100   \n",
       "25%    1.800429e+14       9.630000   26292.000000      34.668900   \n",
       "50%    3.521417e+15      47.290000   48174.000000      39.371600   \n",
       "75%    4.635331e+15      83.010000   72011.000000      41.894800   \n",
       "max    4.992346e+18   22768.110000   99921.000000      65.689900   \n",
       "\n",
       "                long      city_pop     unix_time      merch_lat  \\\n",
       "count  555719.000000  5.557190e+05  5.557190e+05  555719.000000   \n",
       "mean      -90.231325  8.822189e+04  1.380679e+09      38.542798   \n",
       "std        13.721780  3.003909e+05  5.201104e+06       5.095829   \n",
       "min      -165.672300  2.300000e+01  1.371817e+09      19.027422   \n",
       "25%       -96.798000  7.410000e+02  1.376029e+09      34.755302   \n",
       "50%       -87.476900  2.408000e+03  1.380762e+09      39.376593   \n",
       "75%       -80.175200  1.968500e+04  1.385867e+09      41.954163   \n",
       "max       -67.950300  2.906700e+06  1.388534e+09      66.679297   \n",
       "\n",
       "          merch_long       is_fraud  \n",
       "count  555719.000000  555719.000000  \n",
       "mean      -90.231380       0.003860  \n",
       "std        13.733071       0.062008  \n",
       "min      -166.671575       0.000000  \n",
       "25%       -96.905129       0.000000  \n",
       "50%       -87.445204       0.000000  \n",
       "75%       -80.264637       0.000000  \n",
       "max       -66.952026       1.000000  "
      ]
     },
     "metadata": {},
     "output_type": "display_data"
    }
   ],
   "source": [
    "display(Data.describe())"
   ]
  },
  {
   "cell_type": "code",
   "execution_count": 6,
   "metadata": {},
   "outputs": [
    {
     "data": {
      "text/plain": [
       "is_fraud\n",
       "0    553574\n",
       "1      2145\n",
       "Name: count, dtype: int64"
      ]
     },
     "metadata": {},
     "output_type": "display_data"
    }
   ],
   "source": [
    "display(Data['is_fraud'].value_counts())"
   ]
  },
  {
   "cell_type": "markdown",
   "metadata": {},
   "source": [
    "## Train/Test Spliting"
   ]
  },
  {
   "cell_type": "code",
   "execution_count": null,
   "metadata": {},
   "outputs": [
    {
     "ename": "NameError",
     "evalue": "name 'Data' is not defined",
     "output_type": "error",
     "traceback": [
      "\u001b[0;31m---------------------------------------------------------------------------\u001b[0m",
      "\u001b[0;31mNameError\u001b[0m                                 Traceback (most recent call last)",
      "Cell \u001b[0;32mIn[1], line 1\u001b[0m\n\u001b[0;32m----> 1\u001b[0m X \u001b[38;5;241m=\u001b[39m \u001b[43mData\u001b[49m\u001b[38;5;241m.\u001b[39mdrop(\u001b[38;5;124m'\u001b[39m\u001b[38;5;124mis_fraud\u001b[39m\u001b[38;5;124m'\u001b[39m, axis \u001b[38;5;241m=\u001b[39m \u001b[38;5;241m1\u001b[39m)\n\u001b[1;32m      2\u001b[0m y \u001b[38;5;241m=\u001b[39m Data[\u001b[38;5;124m'\u001b[39m\u001b[38;5;124mis_fraud\u001b[39m\u001b[38;5;124m'\u001b[39m]\n\u001b[1;32m      4\u001b[0m category_dict \u001b[38;5;241m=\u001b[39m {}\n",
      "\u001b[0;31mNameError\u001b[0m: name 'Data' is not defined"
     ]
    }
   ],
   "source": [
    "X = Data.drop('is_fraud', axis = 1)\n",
    "y = Data['is_fraud']\n",
    "\n",
    "category_dict = {}\n",
    "# Loop through each object-type column in X\n",
    "for col in X.select_dtypes(include='object').columns:\n",
    "    # Get the full set of all unique categories in this column\n",
    "    category_dict[col] = pd.unique(X[col])\n",
    "\n",
    "# Saving the dictionary to a file\n",
    "with open('category_dict.pkl', 'wb') as file:\n",
    "    pickle.dump(category_dict, file)\n",
    "del(category_dict)\n",
    "\n",
    "# Transform training data and save category mappings for categorical columns\n",
    "X = X.apply(lambda col: col.astype('category') if col.dtype == 'object' else col, axis = 0)\n",
    "\n",
    "\n",
    "# Split the dataset\n",
    "X_train, X_test, y_train, y_test = train_test_split(X, y, test_size=0.2, random_state=42)\n",
    "\n",
    "print(X_train.shape)\n",
    "print(X_test.shape)"
   ]
  },
  {
   "cell_type": "code",
   "execution_count": 8,
   "metadata": {},
   "outputs": [
    {
     "name": "stdout",
     "output_type": "stream",
     "text": [
      "['M' 'F']\n",
      "['personal_care' 'health_fitness' 'misc_pos' 'travel' 'kids_pets'\n",
      " 'shopping_pos' 'food_dining' 'home' 'entertainment' 'shopping_net'\n",
      " 'misc_net' 'grocery_pos' 'gas_transport' 'grocery_net']\n"
     ]
    }
   ],
   "source": [
    "print(category_dict['gender'])\n",
    "print(category_dict['category'])"
   ]
  },
  {
   "cell_type": "markdown",
   "metadata": {},
   "source": [
    "## Training"
   ]
  },
  {
   "cell_type": "code",
   "execution_count": 9,
   "metadata": {},
   "outputs": [
    {
     "name": "stdout",
     "output_type": "stream",
     "text": [
      "XG-Boost accuracy: 0.9985\n",
      "---------------------\n",
      "Confusion matrix:\n",
      "[[110683     35]\n",
      " [   129    297]]\n",
      "---------------------\n",
      "Classification report:\n",
      "              precision    recall  f1-score   support\n",
      "\n",
      "           0     0.9988    0.9997    0.9993    110718\n",
      "           1     0.8946    0.6972    0.7836       426\n",
      "\n",
      "    accuracy                         0.9985    111144\n",
      "   macro avg     0.9467    0.8484    0.8915    111144\n",
      "weighted avg     0.9984    0.9985    0.9984    111144\n",
      "\n"
     ]
    }
   ],
   "source": [
    "xg_boost_model =  xgboost.XGBClassifier(enable_categorical=True, random_state=42, max_depth=8, min_child_weight=0.5, \n",
    "                                  n_estimators=100, gamma=3., reg_alpha=1., reg_lambda=1.)\n",
    "xg_boost_model.fit(X_train, y_train)\n",
    "\n",
    "y_pred = xg_boost_model.predict(X_test)\n",
    "\n",
    "print(\"XG-Boost accuracy: {:.4f}\".format(accuracy_score(y_test, y_pred)))\n",
    "print('---------------------')\n",
    "print(\"Confusion matrix:\")\n",
    "print(confusion_matrix(y_test, y_pred))\n",
    "print('---------------------')\n",
    "print(\"Classification report:\")\n",
    "print(classification_report(y_test, y_pred, digits=4))"
   ]
  },
  {
   "cell_type": "markdown",
   "metadata": {},
   "source": [
    "## Saving the model"
   ]
  },
  {
   "cell_type": "code",
   "execution_count": 10,
   "metadata": {},
   "outputs": [],
   "source": [
    "xg_boost_model.save_model('../models/xgb_model.json')\n",
    "del(xg_boost_model)"
   ]
  },
  {
   "cell_type": "markdown",
   "metadata": {},
   "source": [
    "## Loading and Using"
   ]
  },
  {
   "cell_type": "code",
   "execution_count": 11,
   "metadata": {},
   "outputs": [],
   "source": [
    "xg_boost_model = xgboost.XGBClassifier()\n",
    "xg_boost_model.load_model('../models/xgb_model.json')"
   ]
  },
  {
   "cell_type": "code",
   "execution_count": 12,
   "metadata": {},
   "outputs": [
    {
     "name": "stdout",
     "output_type": "stream",
     "text": [
      "[[110683     35]\n",
      " [     0      0]]\n",
      "[[  0   0]\n",
      " [129 297]]\n"
     ]
    }
   ],
   "source": [
    "# A few checks\n",
    "y_ = y_test[y_test==0] \n",
    "X_ = X_test[y_test==0] \n",
    "print(confusion_matrix(y_, xg_boost_model.predict(X_)))\n",
    "y_ = y_test[y_test==1] \n",
    "X_ = X_test[y_test==1] \n",
    "print(confusion_matrix(y_, xg_boost_model.predict(X_)))\n",
    "del(y_, X_)"
   ]
  },
  {
   "cell_type": "code",
   "execution_count": 13,
   "metadata": {},
   "outputs": [
    {
     "name": "stdout",
     "output_type": "stream",
     "text": [
      "1767\n",
      "1\n"
     ]
    }
   ],
   "source": [
    "# The first non-zero prediction\n",
    "y_pred = xg_boost_model.predict(X)\n",
    "i = np.argmax([y_pred == 1])\n",
    "print(i)\n",
    "print(y_pred[i])"
   ]
  },
  {
   "cell_type": "code",
   "execution_count": 14,
   "metadata": {},
   "outputs": [
    {
     "name": "stdout",
     "output_type": "stream",
     "text": [
      "{'trans_date_trans_time': '2020-06-21 22:32:22', 'cc_num': 6564459919350820, 'merchant': 'fraud_Rodriguez, Yost and Jenkins', 'category': 'misc_net', 'amt': 780.52, 'first': 'Douglas', 'last': 'Willis', 'gender': 'M', 'street': '619 Jeremy Garden Apt. 681', 'city': 'Benton', 'state': 'WI', 'zip': 53803, 'lat': 42.5545, 'long': -90.3508, 'city_pop': 1306, 'job': 'Public relations officer', 'dob': '1958-09-10', 'trans_num': 'ab4b379d2c0c9c667d46508d4e126d72', 'unix_time': 1371853942, 'merch_lat': 42.461127000000005, 'merch_long': -91.147148}\n"
     ]
    }
   ],
   "source": [
    "# The JSON file for a single data point\n",
    "my_dict = X.iloc[i,:].to_dict()\n",
    "print(my_dict)"
   ]
  },
  {
   "cell_type": "code",
   "execution_count": 15,
   "metadata": {},
   "outputs": [
    {
     "data": {
      "text/html": [
       "<div>\n",
       "<style scoped>\n",
       "    .dataframe tbody tr th:only-of-type {\n",
       "        vertical-align: middle;\n",
       "    }\n",
       "\n",
       "    .dataframe tbody tr th {\n",
       "        vertical-align: top;\n",
       "    }\n",
       "\n",
       "    .dataframe thead th {\n",
       "        text-align: right;\n",
       "    }\n",
       "</style>\n",
       "<table border=\"1\" class=\"dataframe\">\n",
       "  <thead>\n",
       "    <tr style=\"text-align: right;\">\n",
       "      <th></th>\n",
       "      <th>trans_date_trans_time</th>\n",
       "      <th>cc_num</th>\n",
       "      <th>merchant</th>\n",
       "      <th>category</th>\n",
       "      <th>amt</th>\n",
       "      <th>first</th>\n",
       "      <th>last</th>\n",
       "      <th>gender</th>\n",
       "      <th>street</th>\n",
       "      <th>city</th>\n",
       "      <th>...</th>\n",
       "      <th>zip</th>\n",
       "      <th>lat</th>\n",
       "      <th>long</th>\n",
       "      <th>city_pop</th>\n",
       "      <th>job</th>\n",
       "      <th>dob</th>\n",
       "      <th>trans_num</th>\n",
       "      <th>unix_time</th>\n",
       "      <th>merch_lat</th>\n",
       "      <th>merch_long</th>\n",
       "    </tr>\n",
       "  </thead>\n",
       "  <tbody>\n",
       "    <tr>\n",
       "      <th>0</th>\n",
       "      <td>2020-06-21 22:32:22</td>\n",
       "      <td>6564459919350820</td>\n",
       "      <td>fraud_Rodriguez, Yost and Jenkins</td>\n",
       "      <td>misc_net</td>\n",
       "      <td>780.52</td>\n",
       "      <td>Douglas</td>\n",
       "      <td>Willis</td>\n",
       "      <td>M</td>\n",
       "      <td>619 Jeremy Garden Apt. 681</td>\n",
       "      <td>Benton</td>\n",
       "      <td>...</td>\n",
       "      <td>53803</td>\n",
       "      <td>42.5545</td>\n",
       "      <td>-90.3508</td>\n",
       "      <td>1306</td>\n",
       "      <td>Public relations officer</td>\n",
       "      <td>1958-09-10</td>\n",
       "      <td>ab4b379d2c0c9c667d46508d4e126d72</td>\n",
       "      <td>1371853942</td>\n",
       "      <td>42.461127</td>\n",
       "      <td>-91.147148</td>\n",
       "    </tr>\n",
       "  </tbody>\n",
       "</table>\n",
       "<p>1 rows × 21 columns</p>\n",
       "</div>"
      ],
      "text/plain": [
       "  trans_date_trans_time            cc_num                           merchant  \\\n",
       "0   2020-06-21 22:32:22  6564459919350820  fraud_Rodriguez, Yost and Jenkins   \n",
       "\n",
       "   category     amt    first    last gender                      street  \\\n",
       "0  misc_net  780.52  Douglas  Willis      M  619 Jeremy Garden Apt. 681   \n",
       "\n",
       "     city  ...    zip      lat     long  city_pop                       job  \\\n",
       "0  Benton  ...  53803  42.5545 -90.3508      1306  Public relations officer   \n",
       "\n",
       "          dob                         trans_num   unix_time  merch_lat  \\\n",
       "0  1958-09-10  ab4b379d2c0c9c667d46508d4e126d72  1371853942  42.461127   \n",
       "\n",
       "   merch_long  \n",
       "0  -91.147148  \n",
       "\n",
       "[1 rows x 21 columns]"
      ]
     },
     "metadata": {},
     "output_type": "display_data"
    }
   ],
   "source": [
    "# One-row datarame with a single data point known to yield the 1-perdiction\n",
    "df = pd.DataFrame([my_dict])\n",
    "display(df)"
   ]
  },
  {
   "cell_type": "code",
   "execution_count": 16,
   "metadata": {},
   "outputs": [
    {
     "name": "stdout",
     "output_type": "stream",
     "text": [
      "False\n"
     ]
    }
   ],
   "source": [
    "# The column types are different\n",
    "print((df.dtypes == X.dtypes).all())"
   ]
  },
  {
   "cell_type": "code",
   "execution_count": 17,
   "metadata": {},
   "outputs": [],
   "source": [
    "# Convert object columns to categorical columns\n",
    "for col, categories in category_dict.items():\n",
    "    if col in df.columns:\n",
    "        # Convert the column in df to categorical using the categories from category_dict\n",
    "        df[col] = pd.Categorical(df[col], categories=categories)"
   ]
  },
  {
   "cell_type": "code",
   "execution_count": 18,
   "metadata": {},
   "outputs": [
    {
     "name": "stdout",
     "output_type": "stream",
     "text": [
      "True\n"
     ]
    }
   ],
   "source": [
    "# The column types are the same\n",
    "print((df.dtypes == X.dtypes).all())"
   ]
  },
  {
   "cell_type": "code",
   "execution_count": 19,
   "metadata": {},
   "outputs": [
    {
     "name": "stdout",
     "output_type": "stream",
     "text": [
      "[1]\n"
     ]
    }
   ],
   "source": [
    "print(xg_boost_model.predict(df)) # As expected"
   ]
  }
 ],
 "metadata": {
  "kernelspec": {
   "display_name": "base",
   "language": "python",
   "name": "python3"
  },
  "language_info": {
   "codemirror_mode": {
    "name": "ipython",
    "version": 3
   },
   "file_extension": ".py",
   "mimetype": "text/x-python",
   "name": "python",
   "nbconvert_exporter": "python",
   "pygments_lexer": "ipython3",
   "version": "3.12.2"
  }
 },
 "nbformat": 4,
 "nbformat_minor": 2
}
