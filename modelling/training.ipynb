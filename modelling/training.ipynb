{
 "cells": [
  {
   "cell_type": "markdown",
   "metadata": {},
   "source": [
    "## Libraries"
   ]
  },
  {
   "cell_type": "code",
   "execution_count": 1,
   "metadata": {},
   "outputs": [],
   "source": [
    "import requests, json\n",
    "import os\n",
    "import numpy as np\n",
    "import pandas as pd\n",
    "\n",
    "import pickle\n",
    "\n",
    "from sklearn.model_selection import train_test_split\n",
    "from sklearn.metrics import accuracy_score, confusion_matrix, classification_report, f1_score, precision_score, recall_score\n",
    "\n",
    "import xgboost"
   ]
  },
  {
   "cell_type": "markdown",
   "metadata": {},
   "source": [
    "### Find what columns are used in the current API request"
   ]
  },
  {
   "cell_type": "code",
   "execution_count": 2,
   "metadata": {},
   "outputs": [],
   "source": [
    "url = 'https://real-time-payments-api.herokuapp.com/current-transactions'\n",
    "headers = {'accept': 'application/json'}\n",
    "\n",
    "# Send the GET request\n",
    "response = requests.get(url, headers=headers)\n",
    "\n",
    "# Check the response status and print the result\n",
    "if response.status_code == 200:\n",
    "    # what columns are there in an API request\n",
    "    columns_in_api = json.loads(response.json())['columns']"
   ]
  },
  {
   "cell_type": "code",
   "execution_count": 3,
   "metadata": {},
   "outputs": [
    {
     "name": "stdout",
     "output_type": "stream",
     "text": [
      "['cc_num', 'merchant', 'category', 'amt', 'first', 'last', 'gender', 'street', 'city', 'state', 'zip', 'lat', 'long', 'city_pop', 'job', 'dob', 'trans_num', 'merch_lat', 'merch_long', 'is_fraud', 'current_time']\n"
     ]
    }
   ],
   "source": [
    "print(columns_in_api)"
   ]
  },
  {
   "cell_type": "markdown",
   "metadata": {},
   "source": [
    "## Downloading"
   ]
  },
  {
   "cell_type": "code",
   "execution_count": 4,
   "metadata": {},
   "outputs": [
    {
     "name": "stdout",
     "output_type": "stream",
     "text": [
      "(555719, 22)\n"
     ]
    }
   ],
   "source": [
    "Data = pd.read_csv('../fraudTest.csv', index_col=0) # nrows=10000, \n",
    "print(Data.shape)"
   ]
  },
  {
   "cell_type": "markdown",
   "metadata": {},
   "source": [
    "## Exploratory Data Analysis"
   ]
  },
  {
   "cell_type": "code",
   "execution_count": 5,
   "metadata": {},
   "outputs": [
    {
     "name": "stdout",
     "output_type": "stream",
     "text": [
      "['amt', 'category', 'cc_num', 'city', 'city_pop', 'dob', 'first', 'gender', 'is_fraud', 'job', 'last', 'lat', 'long', 'merch_lat', 'merch_long', 'merchant', 'state', 'street', 'trans_date_trans_time', 'trans_num', 'unix_time', 'zip']\n"
     ]
    }
   ],
   "source": [
    "print(sorted(Data.columns))"
   ]
  },
  {
   "cell_type": "code",
   "execution_count": 6,
   "metadata": {},
   "outputs": [
    {
     "name": "stdout",
     "output_type": "stream",
     "text": [
      "['trans_date_trans_time', 'unix_time']\n",
      "['current_time']\n",
      "20\n",
      "True\n"
     ]
    }
   ],
   "source": [
    "# Missing in the API\n",
    "print(list(set(Data.columns) - set(columns_in_api)))\n",
    "# Missing in the database\n",
    "print(list(set(columns_in_api) - set(Data.columns)))\n",
    "# Total in both\n",
    "print(len(list(set(columns_in_api) & set(Data.columns))))\n",
    "# is_fraud is in both\n",
    "print('is_fraud' in (set(columns_in_api) & set(Data.columns)))"
   ]
  },
  {
   "cell_type": "code",
   "execution_count": 7,
   "metadata": {},
   "outputs": [
    {
     "name": "stdout",
     "output_type": "stream",
     "text": [
      "(555719, 20)\n"
     ]
    }
   ],
   "source": [
    "Data = Data[list(set(columns_in_api) & set(Data.columns))]\n",
    "print(Data.shape)"
   ]
  },
  {
   "cell_type": "code",
   "execution_count": 8,
   "metadata": {},
   "outputs": [
    {
     "data": {
      "text/html": [
       "<div>\n",
       "<style scoped>\n",
       "    .dataframe tbody tr th:only-of-type {\n",
       "        vertical-align: middle;\n",
       "    }\n",
       "\n",
       "    .dataframe tbody tr th {\n",
       "        vertical-align: top;\n",
       "    }\n",
       "\n",
       "    .dataframe thead th {\n",
       "        text-align: right;\n",
       "    }\n",
       "</style>\n",
       "<table border=\"1\" class=\"dataframe\">\n",
       "  <thead>\n",
       "    <tr style=\"text-align: right;\">\n",
       "      <th></th>\n",
       "      <th>Type</th>\n",
       "      <th>Count</th>\n",
       "    </tr>\n",
       "  </thead>\n",
       "  <tbody>\n",
       "    <tr>\n",
       "      <th>is_fraud</th>\n",
       "      <td>int64</td>\n",
       "      <td>2</td>\n",
       "    </tr>\n",
       "    <tr>\n",
       "      <th>zip</th>\n",
       "      <td>int64</td>\n",
       "      <td>912</td>\n",
       "    </tr>\n",
       "    <tr>\n",
       "      <th>city_pop</th>\n",
       "      <td>int64</td>\n",
       "      <td>835</td>\n",
       "    </tr>\n",
       "    <tr>\n",
       "      <th>cc_num</th>\n",
       "      <td>int64</td>\n",
       "      <td>924</td>\n",
       "    </tr>\n",
       "    <tr>\n",
       "      <th>amt</th>\n",
       "      <td>float64</td>\n",
       "      <td>37256</td>\n",
       "    </tr>\n",
       "    <tr>\n",
       "      <th>merch_long</th>\n",
       "      <td>float64</td>\n",
       "      <td>551770</td>\n",
       "    </tr>\n",
       "    <tr>\n",
       "      <th>merch_lat</th>\n",
       "      <td>float64</td>\n",
       "      <td>546490</td>\n",
       "    </tr>\n",
       "    <tr>\n",
       "      <th>lat</th>\n",
       "      <td>float64</td>\n",
       "      <td>910</td>\n",
       "    </tr>\n",
       "    <tr>\n",
       "      <th>long</th>\n",
       "      <td>float64</td>\n",
       "      <td>910</td>\n",
       "    </tr>\n",
       "    <tr>\n",
       "      <th>dob</th>\n",
       "      <td>object</td>\n",
       "      <td>910</td>\n",
       "    </tr>\n",
       "    <tr>\n",
       "      <th>category</th>\n",
       "      <td>object</td>\n",
       "      <td>14</td>\n",
       "    </tr>\n",
       "    <tr>\n",
       "      <th>city</th>\n",
       "      <td>object</td>\n",
       "      <td>849</td>\n",
       "    </tr>\n",
       "    <tr>\n",
       "      <th>merchant</th>\n",
       "      <td>object</td>\n",
       "      <td>693</td>\n",
       "    </tr>\n",
       "    <tr>\n",
       "      <th>street</th>\n",
       "      <td>object</td>\n",
       "      <td>924</td>\n",
       "    </tr>\n",
       "    <tr>\n",
       "      <th>last</th>\n",
       "      <td>object</td>\n",
       "      <td>471</td>\n",
       "    </tr>\n",
       "    <tr>\n",
       "      <th>state</th>\n",
       "      <td>object</td>\n",
       "      <td>50</td>\n",
       "    </tr>\n",
       "    <tr>\n",
       "      <th>gender</th>\n",
       "      <td>object</td>\n",
       "      <td>2</td>\n",
       "    </tr>\n",
       "    <tr>\n",
       "      <th>trans_num</th>\n",
       "      <td>object</td>\n",
       "      <td>555719</td>\n",
       "    </tr>\n",
       "    <tr>\n",
       "      <th>job</th>\n",
       "      <td>object</td>\n",
       "      <td>478</td>\n",
       "    </tr>\n",
       "    <tr>\n",
       "      <th>first</th>\n",
       "      <td>object</td>\n",
       "      <td>341</td>\n",
       "    </tr>\n",
       "  </tbody>\n",
       "</table>\n",
       "</div>"
      ],
      "text/plain": [
       "               Type   Count\n",
       "is_fraud      int64       2\n",
       "zip           int64     912\n",
       "city_pop      int64     835\n",
       "cc_num        int64     924\n",
       "amt         float64   37256\n",
       "merch_long  float64  551770\n",
       "merch_lat   float64  546490\n",
       "lat         float64     910\n",
       "long        float64     910\n",
       "dob          object     910\n",
       "category     object      14\n",
       "city         object     849\n",
       "merchant     object     693\n",
       "street       object     924\n",
       "last         object     471\n",
       "state        object      50\n",
       "gender       object       2\n",
       "trans_num    object  555719\n",
       "job          object     478\n",
       "first        object     341"
      ]
     },
     "metadata": {},
     "output_type": "display_data"
    }
   ],
   "source": [
    "display(pd.concat([Data.dtypes.to_frame('Type'),Data.nunique().to_frame('Count')], axis=1).sort_values('Type'))"
   ]
  },
  {
   "cell_type": "code",
   "execution_count": 9,
   "metadata": {},
   "outputs": [
    {
     "data": {
      "text/html": [
       "<div>\n",
       "<style scoped>\n",
       "    .dataframe tbody tr th:only-of-type {\n",
       "        vertical-align: middle;\n",
       "    }\n",
       "\n",
       "    .dataframe tbody tr th {\n",
       "        vertical-align: top;\n",
       "    }\n",
       "\n",
       "    .dataframe thead th {\n",
       "        text-align: right;\n",
       "    }\n",
       "</style>\n",
       "<table border=\"1\" class=\"dataframe\">\n",
       "  <thead>\n",
       "    <tr style=\"text-align: right;\">\n",
       "      <th></th>\n",
       "      <th>long</th>\n",
       "      <th>lat</th>\n",
       "      <th>cc_num</th>\n",
       "      <th>city_pop</th>\n",
       "      <th>amt</th>\n",
       "      <th>zip</th>\n",
       "      <th>is_fraud</th>\n",
       "      <th>merch_long</th>\n",
       "      <th>merch_lat</th>\n",
       "    </tr>\n",
       "  </thead>\n",
       "  <tbody>\n",
       "    <tr>\n",
       "      <th>count</th>\n",
       "      <td>555719.000000</td>\n",
       "      <td>555719.000000</td>\n",
       "      <td>5.557190e+05</td>\n",
       "      <td>5.557190e+05</td>\n",
       "      <td>555719.000000</td>\n",
       "      <td>555719.000000</td>\n",
       "      <td>555719.000000</td>\n",
       "      <td>555719.000000</td>\n",
       "      <td>555719.000000</td>\n",
       "    </tr>\n",
       "    <tr>\n",
       "      <th>mean</th>\n",
       "      <td>-90.231325</td>\n",
       "      <td>38.543253</td>\n",
       "      <td>4.178387e+17</td>\n",
       "      <td>8.822189e+04</td>\n",
       "      <td>69.392810</td>\n",
       "      <td>48842.628015</td>\n",
       "      <td>0.003860</td>\n",
       "      <td>-90.231380</td>\n",
       "      <td>38.542798</td>\n",
       "    </tr>\n",
       "    <tr>\n",
       "      <th>std</th>\n",
       "      <td>13.721780</td>\n",
       "      <td>5.061336</td>\n",
       "      <td>1.309837e+18</td>\n",
       "      <td>3.003909e+05</td>\n",
       "      <td>156.745941</td>\n",
       "      <td>26855.283328</td>\n",
       "      <td>0.062008</td>\n",
       "      <td>13.733071</td>\n",
       "      <td>5.095829</td>\n",
       "    </tr>\n",
       "    <tr>\n",
       "      <th>min</th>\n",
       "      <td>-165.672300</td>\n",
       "      <td>20.027100</td>\n",
       "      <td>6.041621e+10</td>\n",
       "      <td>2.300000e+01</td>\n",
       "      <td>1.000000</td>\n",
       "      <td>1257.000000</td>\n",
       "      <td>0.000000</td>\n",
       "      <td>-166.671575</td>\n",
       "      <td>19.027422</td>\n",
       "    </tr>\n",
       "    <tr>\n",
       "      <th>25%</th>\n",
       "      <td>-96.798000</td>\n",
       "      <td>34.668900</td>\n",
       "      <td>1.800429e+14</td>\n",
       "      <td>7.410000e+02</td>\n",
       "      <td>9.630000</td>\n",
       "      <td>26292.000000</td>\n",
       "      <td>0.000000</td>\n",
       "      <td>-96.905129</td>\n",
       "      <td>34.755302</td>\n",
       "    </tr>\n",
       "    <tr>\n",
       "      <th>50%</th>\n",
       "      <td>-87.476900</td>\n",
       "      <td>39.371600</td>\n",
       "      <td>3.521417e+15</td>\n",
       "      <td>2.408000e+03</td>\n",
       "      <td>47.290000</td>\n",
       "      <td>48174.000000</td>\n",
       "      <td>0.000000</td>\n",
       "      <td>-87.445204</td>\n",
       "      <td>39.376593</td>\n",
       "    </tr>\n",
       "    <tr>\n",
       "      <th>75%</th>\n",
       "      <td>-80.175200</td>\n",
       "      <td>41.894800</td>\n",
       "      <td>4.635331e+15</td>\n",
       "      <td>1.968500e+04</td>\n",
       "      <td>83.010000</td>\n",
       "      <td>72011.000000</td>\n",
       "      <td>0.000000</td>\n",
       "      <td>-80.264637</td>\n",
       "      <td>41.954163</td>\n",
       "    </tr>\n",
       "    <tr>\n",
       "      <th>max</th>\n",
       "      <td>-67.950300</td>\n",
       "      <td>65.689900</td>\n",
       "      <td>4.992346e+18</td>\n",
       "      <td>2.906700e+06</td>\n",
       "      <td>22768.110000</td>\n",
       "      <td>99921.000000</td>\n",
       "      <td>1.000000</td>\n",
       "      <td>-66.952026</td>\n",
       "      <td>66.679297</td>\n",
       "    </tr>\n",
       "  </tbody>\n",
       "</table>\n",
       "</div>"
      ],
      "text/plain": [
       "                long            lat        cc_num      city_pop  \\\n",
       "count  555719.000000  555719.000000  5.557190e+05  5.557190e+05   \n",
       "mean      -90.231325      38.543253  4.178387e+17  8.822189e+04   \n",
       "std        13.721780       5.061336  1.309837e+18  3.003909e+05   \n",
       "min      -165.672300      20.027100  6.041621e+10  2.300000e+01   \n",
       "25%       -96.798000      34.668900  1.800429e+14  7.410000e+02   \n",
       "50%       -87.476900      39.371600  3.521417e+15  2.408000e+03   \n",
       "75%       -80.175200      41.894800  4.635331e+15  1.968500e+04   \n",
       "max       -67.950300      65.689900  4.992346e+18  2.906700e+06   \n",
       "\n",
       "                 amt            zip       is_fraud     merch_long  \\\n",
       "count  555719.000000  555719.000000  555719.000000  555719.000000   \n",
       "mean       69.392810   48842.628015       0.003860     -90.231380   \n",
       "std       156.745941   26855.283328       0.062008      13.733071   \n",
       "min         1.000000    1257.000000       0.000000    -166.671575   \n",
       "25%         9.630000   26292.000000       0.000000     -96.905129   \n",
       "50%        47.290000   48174.000000       0.000000     -87.445204   \n",
       "75%        83.010000   72011.000000       0.000000     -80.264637   \n",
       "max     22768.110000   99921.000000       1.000000     -66.952026   \n",
       "\n",
       "           merch_lat  \n",
       "count  555719.000000  \n",
       "mean       38.542798  \n",
       "std         5.095829  \n",
       "min        19.027422  \n",
       "25%        34.755302  \n",
       "50%        39.376593  \n",
       "75%        41.954163  \n",
       "max        66.679297  "
      ]
     },
     "metadata": {},
     "output_type": "display_data"
    }
   ],
   "source": [
    "display(Data.describe())"
   ]
  },
  {
   "cell_type": "code",
   "execution_count": 11,
   "metadata": {},
   "outputs": [
    {
     "data": {
      "text/plain": [
       "is_fraud\n",
       "0    553574\n",
       "1      2145\n",
       "Name: count, dtype: int64"
      ]
     },
     "metadata": {},
     "output_type": "display_data"
    }
   ],
   "source": [
    "display(Data['is_fraud'].value_counts())"
   ]
  },
  {
   "cell_type": "markdown",
   "metadata": {},
   "source": [
    "## Train/Test Spliting"
   ]
  },
  {
   "cell_type": "code",
   "execution_count": 12,
   "metadata": {},
   "outputs": [
    {
     "name": "stdout",
     "output_type": "stream",
     "text": [
      "(444575, 19)\n",
      "(111144, 19)\n"
     ]
    }
   ],
   "source": [
    "X = Data.drop('is_fraud', axis = 1)\n",
    "y = Data['is_fraud']\n",
    "\n",
    "# Transform training data and save category mappings for categorical columns\n",
    "X = X.apply(lambda col: col.astype('category') if col.dtype == 'object' else col, axis = 0)\n",
    "\n",
    "category_dict = {}\n",
    "# Loop through each object-type column in X\n",
    "for col in X.select_dtypes(include='category').columns:\n",
    "    # Get the full set of all unique categories in this column\n",
    "    category_dict[col] = X[col].cat.categories \n",
    "\n",
    "# Saving the dictionary to a file\n",
    "with open('category_dict.pkl', 'wb') as file:\n",
    "    pickle.dump(category_dict, file)\n",
    "\n",
    "# Split the dataset\n",
    "X_train, X_test, y_train, y_test = train_test_split(X, y, test_size=0.2, random_state=42)\n",
    "\n",
    "print(X_train.shape)\n",
    "print(X_test.shape)"
   ]
  },
  {
   "cell_type": "code",
   "execution_count": 13,
   "metadata": {},
   "outputs": [
    {
     "name": "stdout",
     "output_type": "stream",
     "text": [
      "Index(['F', 'M'], dtype='object')\n",
      "Index(['entertainment', 'food_dining', 'gas_transport', 'grocery_net',\n",
      "       'grocery_pos', 'health_fitness', 'home', 'kids_pets', 'misc_net',\n",
      "       'misc_pos', 'personal_care', 'shopping_net', 'shopping_pos', 'travel'],\n",
      "      dtype='object')\n"
     ]
    }
   ],
   "source": [
    "# Show a few examples and delete the dictionary from the notebook\n",
    "print(category_dict['gender'])\n",
    "print(category_dict['category'])\n",
    "del(category_dict)"
   ]
  },
  {
   "cell_type": "markdown",
   "metadata": {},
   "source": [
    "## Training"
   ]
  },
  {
   "cell_type": "code",
   "execution_count": null,
   "metadata": {},
   "outputs": [
    {
     "name": "stderr",
     "output_type": "stream",
     "text": [
      "/root/miniconda3/lib/python3.12/site-packages/xgboost/core.py:158: UserWarning: [16:30:41] WARNING: /workspace/src/learner.cc:740: \n",
      "Parameters: { \"n_estimators\" } are not used.\n",
      "\n",
      "  warnings.warn(smsg, UserWarning)\n"
     ]
    }
   ],
   "source": [
    "# Convert the training data to DMatrix (for enable_categorical=True)\n",
    "dtrain = xgboost.DMatrix(X_train, label=y_train, enable_categorical=True)\n",
    "# Train the model using xgboost.Booster\n",
    "params = {'random_state':42, 'max_depth':8, 'min_child_weight':0.5, 'gamma':3., 'reg_alpha':1., 'reg_lambda':1.}\n",
    "xgb_model = xgboost.train(params, dtrain, num_boost_round=100)\n",
    "\n",
    "\n",
    "\n",
    "# y_pred = xg_boost_model.predict(X_test)\n",
    "\n",
    "# print(\"XG-Boost accuracy: {:.4f}\".format(accuracy_score(y_test, y_pred)))\n",
    "# print('---------------------')\n",
    "# print(\"Confusion matrix:\")\n",
    "# print(confusion_matrix(y_test, y_pred))\n",
    "# print('---------------------')\n",
    "# print(\"Classification report:\")\n",
    "# print(classification_report(y_test, y_pred, digits=4))"
   ]
  },
  {
   "cell_type": "markdown",
   "metadata": {},
   "source": [
    "## Saving the model"
   ]
  },
  {
   "cell_type": "code",
   "execution_count": 15,
   "metadata": {},
   "outputs": [],
   "source": [
    "xg_boost_model.save_model('xgb_model.json')\n",
    "del(xg_boost_model)"
   ]
  },
  {
   "cell_type": "markdown",
   "metadata": {},
   "source": [
    "## Loading and Using"
   ]
  },
  {
   "cell_type": "code",
   "execution_count": 16,
   "metadata": {},
   "outputs": [],
   "source": [
    "xg_boost_model = xgboost.XGBClassifier()\n",
    "xg_boost_model.load_model('xgb_model.json')"
   ]
  },
  {
   "cell_type": "code",
   "execution_count": 17,
   "metadata": {},
   "outputs": [
    {
     "name": "stdout",
     "output_type": "stream",
     "text": [
      "[[110678     40]\n",
      " [     0      0]]\n",
      "[[  0   0]\n",
      " [157 269]]\n"
     ]
    }
   ],
   "source": [
    "# A few checks\n",
    "y_ = y_test[y_test==0] \n",
    "X_ = X_test[y_test==0] \n",
    "print(confusion_matrix(y_, xg_boost_model.predict(X_)))\n",
    "y_ = y_test[y_test==1] \n",
    "X_ = X_test[y_test==1] \n",
    "print(confusion_matrix(y_, xg_boost_model.predict(X_)))\n",
    "del(y_, X_)"
   ]
  },
  {
   "cell_type": "code",
   "execution_count": 18,
   "metadata": {},
   "outputs": [
    {
     "name": "stdout",
     "output_type": "stream",
     "text": [
      "1695\n",
      "1\n",
      "[[0.29483795 0.70516205]]\n"
     ]
    }
   ],
   "source": [
    "# The first non-zero prediction\n",
    "y_pred = xg_boost_model.predict(X)\n",
    "i = np.argmax([y_pred == 1])\n",
    "print(i)\n",
    "print(y_pred[i])\n",
    "print(xg_boost_model.predict_proba(X[i:i+1]))"
   ]
  },
  {
   "cell_type": "code",
   "execution_count": 19,
   "metadata": {},
   "outputs": [
    {
     "name": "stdout",
     "output_type": "stream",
     "text": [
      "{'cc_num': 4427805710168, 'amt': 890.22, 'zip': 88355, 'job': 'Licensed conveyancer', 'city_pop': 8874, 'long': -105.6933, 'street': '1742 Brandon Squares Apt. 461', 'lat': 33.3305, 'trans_num': '670e9fd071e3745d6d90b5ee5f29c64c', 'merch_long': -106.551531, 'first': 'Michelle', 'merchant': 'fraud_Lebsack and Sons', 'category': 'misc_net', 'city': 'Ruidoso', 'gender': 'F', 'dob': '2000-08-16', 'last': 'Rodriguez', 'merch_lat': 34.154798, 'state': 'NM'}\n"
     ]
    }
   ],
   "source": [
    "# The JSON file for a single data point\n",
    "\n",
    "my_dict = X.iloc[i,:].to_dict()\n",
    "print(my_dict)"
   ]
  },
  {
   "cell_type": "code",
   "execution_count": 20,
   "metadata": {},
   "outputs": [
    {
     "data": {
      "text/html": [
       "<div>\n",
       "<style scoped>\n",
       "    .dataframe tbody tr th:only-of-type {\n",
       "        vertical-align: middle;\n",
       "    }\n",
       "\n",
       "    .dataframe tbody tr th {\n",
       "        vertical-align: top;\n",
       "    }\n",
       "\n",
       "    .dataframe thead th {\n",
       "        text-align: right;\n",
       "    }\n",
       "</style>\n",
       "<table border=\"1\" class=\"dataframe\">\n",
       "  <thead>\n",
       "    <tr style=\"text-align: right;\">\n",
       "      <th></th>\n",
       "      <th>cc_num</th>\n",
       "      <th>amt</th>\n",
       "      <th>zip</th>\n",
       "      <th>job</th>\n",
       "      <th>city_pop</th>\n",
       "      <th>long</th>\n",
       "      <th>street</th>\n",
       "      <th>lat</th>\n",
       "      <th>trans_num</th>\n",
       "      <th>merch_long</th>\n",
       "      <th>first</th>\n",
       "      <th>merchant</th>\n",
       "      <th>category</th>\n",
       "      <th>city</th>\n",
       "      <th>gender</th>\n",
       "      <th>dob</th>\n",
       "      <th>last</th>\n",
       "      <th>merch_lat</th>\n",
       "      <th>state</th>\n",
       "    </tr>\n",
       "  </thead>\n",
       "  <tbody>\n",
       "    <tr>\n",
       "      <th>0</th>\n",
       "      <td>4427805710168</td>\n",
       "      <td>890.22</td>\n",
       "      <td>88355</td>\n",
       "      <td>Licensed conveyancer</td>\n",
       "      <td>8874</td>\n",
       "      <td>-105.6933</td>\n",
       "      <td>1742 Brandon Squares Apt. 461</td>\n",
       "      <td>33.3305</td>\n",
       "      <td>670e9fd071e3745d6d90b5ee5f29c64c</td>\n",
       "      <td>-106.551531</td>\n",
       "      <td>Michelle</td>\n",
       "      <td>fraud_Lebsack and Sons</td>\n",
       "      <td>misc_net</td>\n",
       "      <td>Ruidoso</td>\n",
       "      <td>F</td>\n",
       "      <td>2000-08-16</td>\n",
       "      <td>Rodriguez</td>\n",
       "      <td>34.154798</td>\n",
       "      <td>NM</td>\n",
       "    </tr>\n",
       "  </tbody>\n",
       "</table>\n",
       "</div>"
      ],
      "text/plain": [
       "          cc_num     amt    zip                   job  city_pop      long  \\\n",
       "0  4427805710168  890.22  88355  Licensed conveyancer      8874 -105.6933   \n",
       "\n",
       "                          street      lat                         trans_num  \\\n",
       "0  1742 Brandon Squares Apt. 461  33.3305  670e9fd071e3745d6d90b5ee5f29c64c   \n",
       "\n",
       "   merch_long     first                merchant  category     city gender  \\\n",
       "0 -106.551531  Michelle  fraud_Lebsack and Sons  misc_net  Ruidoso      F   \n",
       "\n",
       "          dob       last  merch_lat state  \n",
       "0  2000-08-16  Rodriguez  34.154798    NM  "
      ]
     },
     "metadata": {},
     "output_type": "display_data"
    }
   ],
   "source": [
    "# One-row datarame with a single data point known to yield the 1-perdiction\n",
    "df = pd.DataFrame([my_dict])\n",
    "display(df)"
   ]
  },
  {
   "cell_type": "code",
   "execution_count": 21,
   "metadata": {},
   "outputs": [
    {
     "name": "stdout",
     "output_type": "stream",
     "text": [
      "True\n"
     ]
    }
   ],
   "source": [
    "print((df == X.iloc[i:i+1, :].reset_index(drop=True)).all().all())"
   ]
  },
  {
   "cell_type": "code",
   "execution_count": 22,
   "metadata": {},
   "outputs": [
    {
     "name": "stdout",
     "output_type": "stream",
     "text": [
      "False\n"
     ]
    }
   ],
   "source": [
    "# The column types are different\n",
    "print((df.dtypes.sort_index() == X.dtypes.sort_index()).all())"
   ]
  },
  {
   "cell_type": "code",
   "execution_count": 23,
   "metadata": {},
   "outputs": [],
   "source": [
    "# Load the categorical dictionary\n",
    "with open('category_dict.pkl', 'rb') as file:\n",
    "    category_dict = pickle.load(file)\n",
    "\n",
    "# Convert object columns to categorical columns\n",
    "for col, categories in category_dict.items():\n",
    "    if col in df.columns:\n",
    "        # Convert the column in df to categorical using the categories from category_dict\n",
    "        df[col] = pd.Categorical(df[col], categories=categories)"
   ]
  },
  {
   "cell_type": "code",
   "execution_count": 24,
   "metadata": {},
   "outputs": [
    {
     "name": "stdout",
     "output_type": "stream",
     "text": [
      "True\n"
     ]
    }
   ],
   "source": [
    "# The column types are the same\n",
    "print((df.dtypes.sort_index() == X.dtypes.sort_index()).all())"
   ]
  },
  {
   "cell_type": "code",
   "execution_count": 25,
   "metadata": {},
   "outputs": [
    {
     "name": "stdout",
     "output_type": "stream",
     "text": [
      "[0]\n"
     ]
    }
   ],
   "source": [
    "print(xg_boost_model.predict(df)) # As expected"
   ]
  },
  {
   "cell_type": "code",
   "execution_count": 35,
   "metadata": {},
   "outputs": [
    {
     "name": "stdout",
     "output_type": "stream",
     "text": [
      "True\n",
      "True\n",
      "True\n",
      "[[0.29483795 0.70516205]]\n",
      "[[0.9710381 0.0289619]]\n",
      "[[0.9710381 0.0289619]]\n",
      "[[0.29483795 0.70516205]]\n"
     ]
    }
   ],
   "source": [
    "X_ = X.iloc[i:i+1, :].reset_index(drop=True)\n",
    "print((df == X_).all().all())\n",
    "print((df.columns == X_.columns).all())\n",
    "print(df.index.equals(X_.index))\n",
    "\n",
    "print(xg_boost_model.predict_proba(X_))\n",
    "print(xg_boost_model.predict_proba(df[X_.columns]))\n",
    "print(xg_boost_model.predict_proba(df))\n",
    "print(xg_boost_model.predict_proba(X_.copy()))"
   ]
  },
  {
   "cell_type": "code",
   "execution_count": 36,
   "metadata": {},
   "outputs": [
    {
     "name": "stdout",
     "output_type": "stream",
     "text": [
      "[[0.9710381 0.0289619]]\n"
     ]
    }
   ],
   "source": [
    "xg_boost_model_ = xg_boost_model\n",
    "print(xg_boost_model_.predict_proba(df))\n"
   ]
  },
  {
   "cell_type": "code",
   "execution_count": 30,
   "metadata": {},
   "outputs": [
    {
     "data": {
      "text/plain": [
       "cc_num           int64\n",
       "amt            float64\n",
       "zip              int64\n",
       "job           category\n",
       "city_pop         int64\n",
       "long           float64\n",
       "street        category\n",
       "lat            float64\n",
       "trans_num     category\n",
       "merch_long     float64\n",
       "first         category\n",
       "merchant      category\n",
       "category      category\n",
       "city          category\n",
       "gender        category\n",
       "dob           category\n",
       "last          category\n",
       "merch_lat      float64\n",
       "state         category\n",
       "dtype: object"
      ]
     },
     "execution_count": 30,
     "metadata": {},
     "output_type": "execute_result"
    }
   ],
   "source": [
    "X_.dtypes\n"
   ]
  }
 ],
 "metadata": {
  "kernelspec": {
   "display_name": "base",
   "language": "python",
   "name": "python3"
  },
  "language_info": {
   "codemirror_mode": {
    "name": "ipython",
    "version": 3
   },
   "file_extension": ".py",
   "mimetype": "text/x-python",
   "name": "python",
   "nbconvert_exporter": "python",
   "pygments_lexer": "ipython3",
   "version": "3.12.2"
  }
 },
 "nbformat": 4,
 "nbformat_minor": 2
}
